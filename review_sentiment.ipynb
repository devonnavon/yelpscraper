{
 "cells": [
  {
   "cell_type": "code",
   "execution_count": 18,
   "metadata": {},
   "outputs": [],
   "source": [
    "import scrape\n",
    "import json\n",
    "import pandas as pd\n",
    "import re\n",
    "from sklearn import model_selection\n",
    "from sklearn.feature_extraction.text import CountVectorizer\n",
    "from sklearn.linear_model import LogisticRegression\n",
    "from sklearn.metrics import accuracy_score\n",
    "from sklearn.model_selection import train_test_split"
   ]
  },
  {
   "cell_type": "code",
   "execution_count": 2,
   "metadata": {},
   "outputs": [],
   "source": [
    "REPLACE_NO_SPACE = re.compile(\"[.;:!\\'?,\\\"()\\[\\]]\")\n",
    "REPLACE_WITH_SPACE = re.compile(\"(<br\\s*/><br\\s*/>)|(\\-)|(\\/)\")\n",
    "\n",
    "def preprocess_reviews(reviews):\n",
    "    reviews = [REPLACE_NO_SPACE.sub(\"\", line.lower()) for line in reviews]\n",
    "    reviews = [REPLACE_WITH_SPACE.sub(\" \", line) for line in reviews]\n",
    "    return reviews"
   ]
  },
  {
   "cell_type": "code",
   "execution_count": 3,
   "metadata": {},
   "outputs": [],
   "source": [
    "with open('scrapes/bars_test.json', 'r') as fp:\n",
    "    bars_test = json.load(fp)"
   ]
  },
  {
   "cell_type": "code",
   "execution_count": 4,
   "metadata": {},
   "outputs": [],
   "source": [
    "reviews_test = []\n",
    "for i,x in enumerate(bars_test):\n",
    "    key = list(bars_test[i].keys())[0]\n",
    "    for y in x[key]['reviews']:\n",
    "        reviews_test.append(y)\n",
    "reviews_df = pd.DataFrame(reviews_test)"
   ]
  },
  {
   "cell_type": "code",
   "execution_count": 43,
   "metadata": {},
   "outputs": [],
   "source": [
    "reviews = reviews_df.content"
   ]
  },
  {
   "cell_type": "code",
   "execution_count": 44,
   "metadata": {},
   "outputs": [],
   "source": [
    "reviews_df.loc[ reviews_df.rating <= 3, 'binary_ratings' ] = 0\n",
    "reviews_df.loc[ reviews_df.rating > 3, 'binary_ratings' ] = 1\n",
    "ratings = reviews_df.binary_ratings"
   ]
  },
  {
   "cell_type": "code",
   "execution_count": 45,
   "metadata": {},
   "outputs": [],
   "source": [
    "review_train, review_test, rating_train, rating_test = model_selection.train_test_split(reviews, ratings, test_size=.2, random_state=7)"
   ]
  },
  {
   "cell_type": "code",
   "execution_count": 46,
   "metadata": {},
   "outputs": [],
   "source": [
    "reviews_train_clean = preprocess_reviews(review_train)\n",
    "reviews_test_clean = preprocess_reviews(review_test)\n",
    "target = rating_train"
   ]
  },
  {
   "cell_type": "code",
   "execution_count": 47,
   "metadata": {},
   "outputs": [],
   "source": [
    "cv = CountVectorizer(binary=True)\n",
    "cv.fit(reviews_train_clean)\n",
    "X = cv.transform(reviews_train_clean)\n",
    "X_test = cv.transform(reviews_test_clean)"
   ]
  },
  {
   "cell_type": "code",
   "execution_count": 48,
   "metadata": {},
   "outputs": [
    {
     "name": "stdout",
     "output_type": "stream",
     "text": [
      "Accuracy for C=0.01: 1.0\n",
      "Accuracy for C=0.05: 1.0\n",
      "Accuracy for C=0.25: 1.0\n",
      "Accuracy for C=0.5: 1.0\n",
      "Accuracy for C=1: 1.0\n",
      "Accuracy for C=100: 1.0\n"
     ]
    },
    {
     "name": "stderr",
     "output_type": "stream",
     "text": [
      "/anaconda3/lib/python3.6/site-packages/sklearn/linear_model/logistic.py:432: FutureWarning: Default solver will be changed to 'lbfgs' in 0.22. Specify a solver to silence this warning.\n",
      "  FutureWarning)\n"
     ]
    }
   ],
   "source": [
    "X_train, X_val, y_train, y_val = train_test_split(\n",
    "    X, target, train_size = 0.75\n",
    ")\n",
    "\n",
    "for c in [0.01, 0.05, 0.25, 0.5, 1, 100]:\n",
    "    \n",
    "    lr = LogisticRegression(C=c)\n",
    "    lr.fit(X_train, y_train)\n",
    "    print (\"Accuracy for C=%s: %s\" \n",
    "           % (c, accuracy_score(y_val, lr.predict(X_val))))"
   ]
  },
  {
   "cell_type": "code",
   "execution_count": 49,
   "metadata": {},
   "outputs": [
    {
     "name": "stdout",
     "output_type": "stream",
     "text": [
      "Final Accuracy: 1.0\n"
     ]
    }
   ],
   "source": [
    "final_model = LogisticRegression(C=100)\n",
    "final_model.fit(X, target)\n",
    "print (\"Final Accuracy: %s\" \n",
    "       % accuracy_score(rating_test, final_model.predict(X_test)))"
   ]
  },
  {
   "cell_type": "code",
   "execution_count": 50,
   "metadata": {},
   "outputs": [],
   "source": [
    "feature_to_coef = {\n",
    "    word: coef for word, coef in zip(\n",
    "        cv.get_feature_names(), final_model.coef_[0]\n",
    "    )\n",
    "}"
   ]
  },
  {
   "cell_type": "code",
   "execution_count": 56,
   "metadata": {},
   "outputs": [
    {
     "name": "stdout",
     "output_type": "stream",
     "text": [
      "('great', 2.0166229650593537)\n",
      "('and', 1.4050389044138623)\n",
      "('spot', 1.3862083723354706)\n",
      "('service', 1.3687528391743515)\n",
      "('in', 1.248672889372918)\n",
      "('cocktails', 1.2352323326610861)\n",
      "('amazing', 1.169556513907185)\n",
      "('best', 0.9356000775308336)\n",
      "('friendly', 0.9257779273952741)\n",
      "('awesome', 0.8985736336421548)\n",
      "('drinks', 0.8974541652234439)\n",
      "('is', 0.8506242117084476)\n",
      "('classic', 0.8245582900710686)\n",
      "('from', 0.8189651944151123)\n",
      "('with', 0.7857152595035227)\n",
      "('fantastic', 0.7332341127504686)\n",
      "('bar', 0.7029835659496853)\n",
      "('we', 0.7015342867456736)\n",
      "('place', 0.6747743437801043)\n",
      "('cocktail', 0.6149616956124313)\n"
     ]
    }
   ],
   "source": [
    "for best_positive in sorted(\n",
    "    feature_to_coef.items(), \n",
    "    key=lambda x: x[1], \n",
    "    reverse=True)[:20]:\n",
    "    print (best_positive)"
   ]
  },
  {
   "cell_type": "code",
   "execution_count": 57,
   "metadata": {},
   "outputs": [
    {
     "name": "stdout",
     "output_type": "stream",
     "text": [
      "('that', -1.5698427328502966)\n",
      "('werent', -1.3781952298369162)\n",
      "('if', -1.217980155067944)\n",
      "('overpriced', -1.101330218131531)\n",
      "('slow', -1.030044797601466)\n",
      "('way', -0.9701351658782865)\n",
      "('are', -0.9563440125290876)\n",
      "('up', -0.9429240074257292)\n",
      "('call', -0.9035645735307478)\n",
      "('inattentive', -0.9035645735307478)\n",
      "('joke', -0.9035645735307478)\n",
      "('paaaaaasss', -0.9035645735307478)\n",
      "('front', -0.8882227127110365)\n",
      "('bad', -0.8826179269170903)\n",
      "('how', -0.8783864108030562)\n",
      "('tell', -0.8607427382142208)\n",
      "('hit', -0.8566569925935117)\n",
      "('girlfriend', -0.8411990924805482)\n",
      "('trying', -0.8411990924805482)\n",
      "('used', -0.8241884005902941)\n"
     ]
    }
   ],
   "source": [
    "for best_negative in sorted(\n",
    "    feature_to_coef.items(), \n",
    "    key=lambda x: x[1])[:20]:\n",
    "    print (best_negative)"
   ]
  },
  {
   "cell_type": "code",
   "execution_count": null,
   "metadata": {},
   "outputs": [],
   "source": []
  }
 ],
 "metadata": {
  "kernelspec": {
   "display_name": "Python 3",
   "language": "python",
   "name": "python3"
  },
  "language_info": {
   "codemirror_mode": {
    "name": "ipython",
    "version": 3
   },
   "file_extension": ".py",
   "mimetype": "text/x-python",
   "name": "python",
   "nbconvert_exporter": "python",
   "pygments_lexer": "ipython3",
   "version": "3.6.8"
  }
 },
 "nbformat": 4,
 "nbformat_minor": 4
}
