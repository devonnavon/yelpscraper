{
 "cells": [
  {
   "cell_type": "code",
   "execution_count": 52,
   "metadata": {},
   "outputs": [],
   "source": [
    "import scrape\n",
    "import json\n",
    "import pandas as pd"
   ]
  },
  {
   "cell_type": "code",
   "execution_count": 3,
   "metadata": {},
   "outputs": [],
   "source": [
    "#links = scrape.get_city('Bars', 'Austin', 'TX', page_limit=200)"
   ]
  },
  {
   "cell_type": "code",
   "execution_count": 4,
   "metadata": {},
   "outputs": [],
   "source": [
    "# links file format: search_city_state\n",
    "# with open('scrapes/bars_austin_tx.json', 'x') as fp:\n",
    "#    json.dump(links, fp)"
   ]
  },
  {
   "cell_type": "code",
   "execution_count": 13,
   "metadata": {},
   "outputs": [],
   "source": [
    "with open('scrapes/bars_austin_tx.json', 'r') as fp:\n",
    "    bars_austin_tx = json.load(fp)"
   ]
  },
  {
   "cell_type": "code",
   "execution_count": 16,
   "metadata": {},
   "outputs": [],
   "source": [
    "bars_austin_tx_df = pd.DataFrame(bars_austin_tx)"
   ]
  },
  {
   "cell_type": "code",
   "execution_count": 17,
   "metadata": {},
   "outputs": [
    {
     "data": {
      "text/html": [
       "<div>\n",
       "<style scoped>\n",
       "    .dataframe tbody tr th:only-of-type {\n",
       "        vertical-align: middle;\n",
       "    }\n",
       "\n",
       "    .dataframe tbody tr th {\n",
       "        vertical-align: top;\n",
       "    }\n",
       "\n",
       "    .dataframe thead th {\n",
       "        text-align: right;\n",
       "    }\n",
       "</style>\n",
       "<table border=\"1\" class=\"dataframe\">\n",
       "  <thead>\n",
       "    <tr style=\"text-align: right;\">\n",
       "      <th></th>\n",
       "      <th>names</th>\n",
       "      <th>links</th>\n",
       "    </tr>\n",
       "  </thead>\n",
       "  <tbody>\n",
       "    <tr>\n",
       "      <th>0</th>\n",
       "      <td>The Roosevelt Room</td>\n",
       "      <td>/biz/the-roosevelt-room-austin?osq=Bars</td>\n",
       "    </tr>\n",
       "    <tr>\n",
       "      <th>1</th>\n",
       "      <td>Edge Rooftop + Bar</td>\n",
       "      <td>/biz/edge-rooftop-bar-austin?osq=Bars</td>\n",
       "    </tr>\n",
       "    <tr>\n",
       "      <th>2</th>\n",
       "      <td>Firehouse Lounge</td>\n",
       "      <td>/biz/firehouse-lounge-austin-3?osq=Bars</td>\n",
       "    </tr>\n",
       "    <tr>\n",
       "      <th>3</th>\n",
       "      <td>The Lost Lei</td>\n",
       "      <td>/biz/the-lost-lei-austin?osq=Bars</td>\n",
       "    </tr>\n",
       "    <tr>\n",
       "      <th>4</th>\n",
       "      <td>HandleBar</td>\n",
       "      <td>/biz/handlebar-austin?osq=Bars</td>\n",
       "    </tr>\n",
       "  </tbody>\n",
       "</table>\n",
       "</div>"
      ],
      "text/plain": [
       "                names                                    links\n",
       "0  The Roosevelt Room  /biz/the-roosevelt-room-austin?osq=Bars\n",
       "1  Edge Rooftop + Bar    /biz/edge-rooftop-bar-austin?osq=Bars\n",
       "2    Firehouse Lounge  /biz/firehouse-lounge-austin-3?osq=Bars\n",
       "3        The Lost Lei        /biz/the-lost-lei-austin?osq=Bars\n",
       "4           HandleBar           /biz/handlebar-austin?osq=Bars"
      ]
     },
     "execution_count": 17,
     "metadata": {},
     "output_type": "execute_result"
    }
   ],
   "source": [
    "bars_austin_tx_df.head()"
   ]
  },
  {
   "cell_type": "code",
   "execution_count": 21,
   "metadata": {},
   "outputs": [
    {
     "name": "stdout",
     "output_type": "stream",
     "text": [
      "Reviews loaded: 500"
     ]
    }
   ],
   "source": [
    "# #4 bars in austin \n",
    "# bars_test = []\n",
    "# for x in range(4): #first \n",
    "#     bars_test.append({bars_austin_tx['names'][x]:scrape.get_business(bars_austin_tx_df['links'][x], 500, True)})"
   ]
  },
  {
   "cell_type": "code",
   "execution_count": 25,
   "metadata": {},
   "outputs": [],
   "source": [
    "# #test business file\n",
    "# with open('scrapes/bars_test.json', 'x') as fp:\n",
    "#    json.dump(bars_test, fp)"
   ]
  },
  {
   "cell_type": "code",
   "execution_count": 26,
   "metadata": {},
   "outputs": [],
   "source": [
    "with open('scrapes/bars_test.json', 'r') as fp:\n",
    "    bars_test = json.load(fp)"
   ]
  },
  {
   "cell_type": "code",
   "execution_count": null,
   "metadata": {},
   "outputs": [],
   "source": []
  }
 ],
 "metadata": {
  "kernelspec": {
   "display_name": "Python 3",
   "language": "python",
   "name": "python3"
  },
  "language_info": {
   "codemirror_mode": {
    "name": "ipython",
    "version": 3
   },
   "file_extension": ".py",
   "mimetype": "text/x-python",
   "name": "python",
   "nbconvert_exporter": "python",
   "pygments_lexer": "ipython3",
   "version": "3.6.8"
  }
 },
 "nbformat": 4,
 "nbformat_minor": 4
}
