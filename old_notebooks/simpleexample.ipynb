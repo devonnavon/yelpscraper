{
 "cells": [
  {
   "cell_type": "code",
   "execution_count": 1,
   "metadata": {},
   "outputs": [],
   "source": [
    "import requests\n",
    "from bs4 import BeautifulSoup"
   ]
  },
  {
   "cell_type": "code",
   "execution_count": 2,
   "metadata": {},
   "outputs": [],
   "source": [
    "#gets webpage\n",
    "url = requests.get('https://bolajiolajide.github.io')"
   ]
  },
  {
   "cell_type": "code",
   "execution_count": 31,
   "metadata": {},
   "outputs": [],
   "source": [
    "#makes it looks nice\n",
    "source = BeautifulSoup(url.text, 'html.parser')\n",
    "#gets all divs with class post-feed\n",
    "post_feed = source.find('div', class_=\"post-feed\")\n",
    "#gets all posts in a list\n",
    "posts = post_feed.find_all('article', class_= \"post-card\")"
   ]
  },
  {
   "cell_type": "code",
   "execution_count": 34,
   "metadata": {},
   "outputs": [
    {
     "data": {
      "text/plain": [
       "<article class=\"post-card post tag-recursion tag-tech\">\n",
       "<a class=\"post-card-image-link\" href=\"recursion-for-beginners/\">\n",
       "<div class=\"post-card-image\" style=\"background-image: url(content/images/2017/11/1-7ZuOMhkxl0XbmTIKDu7Kxg-1.jpeg)\"></div>\n",
       "</a>\n",
       "<div class=\"post-card-content\">\n",
       "<a class=\"post-card-content-link\" href=\"recursion-for-beginners/\">\n",
       "<header class=\"post-card-header\">\n",
       "<span class=\"post-card-tags\">recursion</span>\n",
       "<h2 class=\"post-card-title\">Recursion For Beginners</h2>\n",
       "</header>\n",
       "<section class=\"post-card-excerpt\">\n",
       "<p>What is recursion? Recursion is a method where the solution to a problem depends on solutions to smaller instances of the same problem (as opposed to iteration). The approach can be applied to</p>\n",
       "</section>\n",
       "</a>\n",
       "<footer class=\"post-card-meta\">\n",
       "<img alt=\"Bolaji Olajide\" class=\"author-profile-image\" src=\"content/images/2017/11/Bolaji-Olajide--1-.jpg\"/>\n",
       "<span class=\"post-card-author\"><a href=\"author/bolaji/\">Bolaji Olajide</a></span>\n",
       "</footer>\n",
       "</div>\n",
       "</article>"
      ]
     },
     "execution_count": 34,
     "metadata": {},
     "output_type": "execute_result"
    }
   ],
   "source": [
    "single_post = posts[0]\n",
    "single_post"
   ]
  },
  {
   "cell_type": "code",
   "execution_count": 32,
   "metadata": {},
   "outputs": [],
   "source": [
    "title = single_post.find('h2', class_='post-card-title')"
   ]
  },
  {
   "cell_type": "code",
   "execution_count": 35,
   "metadata": {},
   "outputs": [
    {
     "data": {
      "text/plain": [
       "'Recursion For Beginners'"
      ]
     },
     "execution_count": 35,
     "metadata": {},
     "output_type": "execute_result"
    }
   ],
   "source": [
    "title.text"
   ]
  },
  {
   "cell_type": "code",
   "execution_count": 9,
   "metadata": {},
   "outputs": [],
   "source": [
    "excerpt = single_post.find('section', class_=\"post-card-excerpt\")"
   ]
  },
  {
   "cell_type": "code",
   "execution_count": 33,
   "metadata": {},
   "outputs": [
    {
     "data": {
      "text/plain": [
       "'What is recursion? Recursion is a method where the solution to a problem depends on solutions to smaller instances of the same problem (as opposed to iteration). The approach can be applied to'"
      ]
     },
     "execution_count": 33,
     "metadata": {},
     "output_type": "execute_result"
    }
   ],
   "source": [
    "excerpt.p.text"
   ]
  },
  {
   "cell_type": "code",
   "execution_count": 11,
   "metadata": {},
   "outputs": [],
   "source": [
    "author = single_post.find('span', class_=\"post-card-author\")\n"
   ]
  },
  {
   "cell_type": "code",
   "execution_count": 12,
   "metadata": {},
   "outputs": [
    {
     "data": {
      "text/plain": [
       "'Bolaji Olajide'"
      ]
     },
     "execution_count": 12,
     "metadata": {},
     "output_type": "execute_result"
    }
   ],
   "source": [
    "author.a.text\n"
   ]
  },
  {
   "cell_type": "code",
   "execution_count": 13,
   "metadata": {},
   "outputs": [],
   "source": [
    "def get_post_details(article):\n",
    "    title = article.find('h2', class_='post-card-title').text\n",
    "    excerpt = article.find('section', class_='post-card-excerpt').p.text\n",
    "    author = article.find('span', class_='post-card-author').a.text\n",
    "    return {\n",
    "        \"title\": title,\n",
    "        \"excerpt\": excerpt,\n",
    "        \"author\": author\n",
    "    }"
   ]
  },
  {
   "cell_type": "code",
   "execution_count": 14,
   "metadata": {},
   "outputs": [],
   "source": [
    "blog_posts = [get_post_details(post) for post in posts ];\n"
   ]
  },
  {
   "cell_type": "code",
   "execution_count": 15,
   "metadata": {},
   "outputs": [
    {
     "data": {
      "text/plain": [
       "[{'title': 'Recursion For Beginners',\n",
       "  'excerpt': 'What is recursion? Recursion is a method where the solution to a problem depends on solutions to smaller instances of the same problem (as opposed to iteration). The approach can be applied to',\n",
       "  'author': 'Bolaji Olajide'},\n",
       " {'title': 'Creating a Simple Python Decorator',\n",
       "  'excerpt': 'One of the amazing things about the Python language is the use of decorators to alter functionality. Decorators are used to extend functions without actually modifying them directly.',\n",
       "  'author': 'Bolaji Olajide'},\n",
       " {'title': 'The Art of Learning\\u200a—\\u200aMy Learning Process',\n",
       "  'excerpt': 'Learning is the process of acquiring new or modifying existing knowledge, behaviors, skills, values, or preferences.',\n",
       "  'author': 'Bolaji Olajide'}]"
      ]
     },
     "execution_count": 15,
     "metadata": {},
     "output_type": "execute_result"
    }
   ],
   "source": [
    "blog_posts"
   ]
  },
  {
   "cell_type": "code",
   "execution_count": 16,
   "metadata": {},
   "outputs": [],
   "source": [
    "blog_posts = []\n",
    "for post in posts:\n",
    "    blog_posts.append(get_post_details(post))"
   ]
  },
  {
   "cell_type": "code",
   "execution_count": 17,
   "metadata": {},
   "outputs": [
    {
     "data": {
      "text/plain": [
       "[{'title': 'Recursion For Beginners',\n",
       "  'excerpt': 'What is recursion? Recursion is a method where the solution to a problem depends on solutions to smaller instances of the same problem (as opposed to iteration). The approach can be applied to',\n",
       "  'author': 'Bolaji Olajide'},\n",
       " {'title': 'Creating a Simple Python Decorator',\n",
       "  'excerpt': 'One of the amazing things about the Python language is the use of decorators to alter functionality. Decorators are used to extend functions without actually modifying them directly.',\n",
       "  'author': 'Bolaji Olajide'},\n",
       " {'title': 'The Art of Learning\\u200a—\\u200aMy Learning Process',\n",
       "  'excerpt': 'Learning is the process of acquiring new or modifying existing knowledge, behaviors, skills, values, or preferences.',\n",
       "  'author': 'Bolaji Olajide'}]"
      ]
     },
     "execution_count": 17,
     "metadata": {},
     "output_type": "execute_result"
    }
   ],
   "source": [
    "blog_posts"
   ]
  },
  {
   "cell_type": "code",
   "execution_count": null,
   "metadata": {},
   "outputs": [],
   "source": []
  }
 ],
 "metadata": {
  "kernelspec": {
   "display_name": "Python 3",
   "language": "python",
   "name": "python3"
  },
  "language_info": {
   "codemirror_mode": {
    "name": "ipython",
    "version": 3
   },
   "file_extension": ".py",
   "mimetype": "text/x-python",
   "name": "python",
   "nbconvert_exporter": "python",
   "pygments_lexer": "ipython3",
   "version": "3.6.5"
  }
 },
 "nbformat": 4,
 "nbformat_minor": 2
}
